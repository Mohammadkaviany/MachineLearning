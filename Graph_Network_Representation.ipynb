{
  "nbformat": 4,
  "nbformat_minor": 0,
  "metadata": {
    "colab": {
      "provenance": [],
      "authorship_tag": "ABX9TyPhv8ovRfAxFgHMVka3IO+j"
    },
    "kernelspec": {
      "name": "python3",
      "display_name": "Python 3"
    },
    "language_info": {
      "name": "python"
    }
  },
  "cells": [
    {
      "cell_type": "markdown",
      "source": [
        "#Importing essential libraries"
      ],
      "metadata": {
        "id": "Wik6PbhCPpGB"
      }
    },
    {
      "cell_type": "code",
      "source": [
        "import matplotlib.pyplot as plt\n",
        "import networkx as nx\n",
        "\n",
        "seed = 668273 # Seed is term to tell the code to plot the same network graphs over ant iteration"
      ],
      "metadata": {
        "id": "dEWTiyl4tsXu"
      },
      "execution_count": 113,
      "outputs": []
    },
    {
      "cell_type": "markdown",
      "source": [
        "#Lists of degree Sequences (DS)"
      ],
      "metadata": {
        "id": "3J2TIEmtPu4v"
      }
    },
    {
      "cell_type": "code",
      "source": [
        "A = [3, 3, 3, 1]\n",
        "B = [4, 3, 2, 1, 1]\n",
        "C = [6, 6, 5, 3, 3, 3, 1]\n",
        "D = [7, 6, 4, 3, 3, 3, 2, 2]"
      ],
      "metadata": {
        "id": "owgVNELlXk-z"
      },
      "execution_count": 87,
      "outputs": []
    },
    {
      "cell_type": "code",
      "source": [
        "l = [A, B, C, D]"
      ],
      "metadata": {
        "id": "y52ioYOib_KF"
      },
      "execution_count": 88,
      "outputs": []
    },
    {
      "cell_type": "markdown",
      "source": [
        "#Defining a function to check the possibility of creating a graph with a given DS"
      ],
      "metadata": {
        "id": "wkzQvUPzP6Wi"
      }
    },
    {
      "cell_type": "code",
      "source": [
        "def possibility(x):\n",
        "\n",
        "  c = 0\n",
        "\n",
        "  for i in x:\n",
        "    if i % 2 == 1:\n",
        "      c += 1\n",
        "  \n",
        "  if c%2 == 1 :\n",
        "    #print(\"Failed. Not a simple graph\")\n",
        "    return 0\n",
        "  \n",
        "  else :\n",
        "    #print(\"Successful.\")\n",
        "    return 1"
      ],
      "metadata": {
        "id": "sMRMnmDSrD7r"
      },
      "execution_count": 99,
      "outputs": []
    },
    {
      "cell_type": "markdown",
      "source": [
        "#Defining a function which iterates over lists and return the graph creation possibility"
      ],
      "metadata": {
        "id": "-EpaFzPnQGBe"
      }
    },
    {
      "cell_type": "code",
      "source": [
        "def graph(x):\n",
        "  P = possibility(x)\n",
        "\n",
        "  if P == 1 :\n",
        "    k = x[0]\n",
        "    a = x[1:]\n",
        "    for i in range(k):\n",
        "      a[i] -= 1\n",
        "      if a[i] == 0:\n",
        "        a.remove(a[i])\n",
        "      \n",
        "    if len(a) == 0:\n",
        "      print(\"yes\")\n",
        "    return \"Successful.\"\n",
        "\n",
        "  if P == 0 :\n",
        "    return \"Failed.\""
      ],
      "metadata": {
        "id": "hW-cqPeL9uLO"
      },
      "execution_count": 100,
      "outputs": []
    },
    {
      "cell_type": "markdown",
      "source": [
        "#Defining a function to plot the graph with a given DS"
      ],
      "metadata": {
        "id": "5rXB8g7sQbuH"
      }
    },
    {
      "cell_type": "code",
      "source": [
        "def Plotter(x):\n",
        "  \n",
        "  G = nx.configuration_model(x, seed=seed)  # configuration model, seed for reproducibility\n",
        "  degree_sequence = [d for n, d in G.degree()]\n",
        "  hist = {}\n",
        "  for d in degree_sequence:\n",
        "      if d in hist:\n",
        "          hist[d] += 1\n",
        "      else:\n",
        "          hist[d] = 1\n",
        "  print(\"\\ndegree #nodes\")\n",
        "  for d in hist:\n",
        "      print(f\"{d:4} {hist[d]:6}\")\n",
        "\n",
        "  pos = nx.spring_layout(G, seed=seed)  # Seed layout for reproducibility\n",
        "  nx.draw(G, pos=pos)\n",
        "  plt.show()\n"
      ],
      "metadata": {
        "id": "cDo0sg9wM40_"
      },
      "execution_count": 105,
      "outputs": []
    },
    {
      "cell_type": "markdown",
      "source": [
        "#Iteration over lists of DSs"
      ],
      "metadata": {
        "id": "Zp3JRMDEQtB1"
      }
    },
    {
      "cell_type": "code",
      "source": [
        "\n",
        "accepted_DS = []\n",
        "for i in l:\n",
        "  print(f\"\\n{i} is a graph and checking was {graph(i)}\")\n",
        "  \n",
        "  if graph(i) == \"Successful.\":\n",
        "    accepted_DS.append(i)\n",
        "\n",
        "for j in accepted_DS:\n",
        "  plt.figure(figsize=(5, 10))\n",
        "  Plotter(j)\n",
        "  "
      ],
      "metadata": {
        "colab": {
          "base_uri": "https://localhost:8080/",
          "height": 1000
        },
        "id": "UmUc8DgZ_PzN",
        "outputId": "c963cdaa-70c3-446c-da12-166ecb5afaec"
      },
      "execution_count": 116,
      "outputs": [
        {
          "output_type": "stream",
          "name": "stdout",
          "text": [
            "\n",
            "[3, 3, 3, 1] is a graph and checking was Successful.\n",
            "\n",
            "[4, 3, 2, 1, 1] is a graph and checking was Failed.\n",
            "\n",
            "[6, 6, 5, 3, 3, 3, 1] is a graph and checking was Failed.\n",
            "\n",
            "[7, 6, 4, 3, 3, 3, 2, 2] is a graph and checking was Successful.\n",
            "\n",
            "degree #nodes\n",
            "   3      3\n",
            "   1      1\n"
          ]
        },
        {
          "output_type": "display_data",
          "data": {
            "text/plain": [
              "<Figure size 360x720 with 0 Axes>"
            ]
          },
          "metadata": {}
        },
        {
          "output_type": "display_data",
          "data": {
            "text/plain": [
              "<Figure size 720x360 with 1 Axes>"
            ],
            "image/png": "[encoded data removed]"
          },
          "metadata": {}
        },
        {
          "output_type": "stream",
          "name": "stdout",
          "text": [
            "\n",
            "degree #nodes\n",
            "   7      1\n",
            "   6      1\n",
            "   4      1\n",
            "   3      3\n",
            "   2      2\n"
          ]
        },
        {
          "output_type": "display_data",
          "data": {
            "text/plain": [
              "<Figure size 360x720 with 0 Axes>"
            ]
          },
          "metadata": {}
        },
        {
          "output_type": "display_data",
          "data": {
            "text/plain": [
              "<Figure size 720x360 with 1 Axes>"
            ],
            "image/png": "[encoded data removed]"
          },
          "metadata": {}
        }
      ]
    }
  ]
}